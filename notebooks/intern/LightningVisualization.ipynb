{
 "cells": [
  {
   "cell_type": "markdown",
   "id": "315c37b9",
   "metadata": {},
   "source": [
    "# Visualizing Alaska Lightning Detection Network Data\n",
    "\n",
    "In this notebook you will learn:\n",
    "  1. how to download and visualize geospatial data using geopandas\n",
    "  2. how to perform quick statistics and exploratory data analysis\n",
    "  3. how to visualize spatial data using Python\n",
    "  \n",
    "The data we will be working with in this notebook is from the Alaska Lightning Detection Network (ALDN).\n",
    "The ALDN data is updated daily with lightning strikes observed during that current day. For this part of the work\n",
    "we will be looking at this current year lightning strikes. Follow the cells listed below to analyze some of the data.\n",
    "\n",
    "## 1. Download the Data\n",
    "\n",
    "An important step in any research is to download and clean the necessary data so we can work from a dataset with high quality. In this next cell we will use the `curl` tool to download data from the Alaska Interagency Coordination Center (AICC)."
   ]
  },
  {
   "cell_type": "code",
   "execution_count": null,
   "id": "260e4551",
   "metadata": {},
   "outputs": [],
   "source": [
    "!curl 'https://fire.ak.blm.gov/content/maps/aicc/Data/Data%20(zipped%20Shapefiles)/CurrentYearLightning_SHP.zip' --output CurrentYearLightning_SHP.zip"
   ]
  },
  {
   "cell_type": "markdown",
   "id": "9a13ffb2",
   "metadata": {},
   "source": [
    "Note that by adding `!` before the command from above, we can run non-Python Linux commands directly into our system. Once the data is downloaded, we can see that the data is in `.zip` format. Which means that the data is compressed.\n",
    "\n",
    "Search on Google, Why do we compress data into zip format? In order to effectively read the data, we will need to uncompress it. First, let's list what data we have available in our directory."
   ]
  },
  {
   "cell_type": "code",
   "execution_count": null,
   "id": "7469649d",
   "metadata": {},
   "outputs": [],
   "source": [
    "!ls"
   ]
  },
  {
   "cell_type": "markdown",
   "id": "81380788",
   "metadata": {},
   "source": [
    "Note that there is the `CurrentYearLightning_SHP.zip` file which we just downloaded. Let's start working on some Python code to uncompress and open the file.\n",
    "\n",
    "##  2. Uncompress the Data\n",
    "\n",
    "Here we will import several Python packages and will look for the file in our current directory."
   ]
  },
  {
   "cell_type": "code",
   "execution_count": null,
   "id": "49a20b44",
   "metadata": {},
   "outputs": [],
   "source": [
    "import shutil\n",
    "import leafmap\n",
    "from glob import glob\n",
    "import geopandas as gpd\n",
    "import matplotlib.pyplot as plt"
   ]
  },
  {
   "cell_type": "markdown",
   "id": "ed2c5dcf",
   "metadata": {},
   "source": [
    "After import the necessary libraries, let's find the zip file from our current directory:"
   ]
  },
  {
   "cell_type": "code",
   "execution_count": null,
   "id": "a4b90631",
   "metadata": {},
   "outputs": [],
   "source": [
    "filename = glob('*.zip')\n",
    "print(filename)"
   ]
  },
  {
   "cell_type": "markdown",
   "id": "51c178ef",
   "metadata": {},
   "source": [
    "Note that the list above has the filename to uncompress. Let's uncompress our zip file using Python:"
   ]
  },
  {
   "cell_type": "code",
   "execution_count": null,
   "id": "e67d2947",
   "metadata": {},
   "outputs": [],
   "source": [
    "shutil.unpack_archive(filename[0], '.')"
   ]
  },
  {
   "cell_type": "markdown",
   "id": "555bd48b",
   "metadata": {},
   "source": [
    "After uncompressing the file, let's look at the contents of our directory:"
   ]
  },
  {
   "cell_type": "code",
   "execution_count": null,
   "id": "bcda7829",
   "metadata": {},
   "outputs": [],
   "source": [
    "!ls"
   ]
  },
  {
   "cell_type": "markdown",
   "id": "058573ea",
   "metadata": {},
   "source": [
    "Note that we now have several new files. We are mostly interested in the `.shp` file that is in that directory.\n",
    "The shape file will contain rows and columns with spatially referenced data.\n",
    "\n",
    "## 3. Open Shapefile\n",
    "\n",
    "Let's open the filename and do some statistics."
   ]
  },
  {
   "cell_type": "code",
   "execution_count": null,
   "id": "d281ad7d",
   "metadata": {},
   "outputs": [],
   "source": [
    "lightning_filename = glob('*.shp')\n",
    "print(lightning_filename)"
   ]
  },
  {
   "cell_type": "markdown",
   "id": "dcb5ebe6",
   "metadata": {},
   "source": [
    "Here we use the `geopandas` package to open our shapefile and look at some of the content."
   ]
  },
  {
   "cell_type": "code",
   "execution_count": null,
   "id": "e339b16b",
   "metadata": {},
   "outputs": [],
   "source": [
    "gdf = gpd.read_file(lightning_filename[0])\n",
    "gdf.head()"
   ]
  },
  {
   "cell_type": "markdown",
   "id": "224904a6",
   "metadata": {},
   "source": [
    "How many columns do we have in the dataset? What is the size of our dataset?"
   ]
  },
  {
   "cell_type": "code",
   "execution_count": null,
   "id": "b68d839f",
   "metadata": {},
   "outputs": [],
   "source": [
    "gdf.shape"
   ]
  },
  {
   "cell_type": "markdown",
   "id": "6b5429e7",
   "metadata": {},
   "source": [
    "## 4. Exploratory Data Analysis\n",
    "\n",
    "Here we will look at our data and understand it. By looking at the output from above we can see that there is a data for when the lightning occurs, and there are also diferent types of strokes. Let's see what are the different types of strokes."
   ]
  },
  {
   "cell_type": "code",
   "execution_count": null,
   "id": "3fda2860",
   "metadata": {},
   "outputs": [],
   "source": [
    "gdf['STROKETYPE'].unique()"
   ]
  },
  {
   "cell_type": "markdown",
   "id": "091768eb",
   "metadata": {},
   "source": [
    "Note that we selected the `STROKETYPE` column, and then grabbed the unique values from that column. In this case, we only have two types of strikes: `GROUND_STROKE` and `CLOUD_STROKE`. We are only interested in `GROUND_STROKE`, so we will clean our dataset to only include those."
   ]
  },
  {
   "cell_type": "code",
   "execution_count": null,
   "id": "bb30c05d",
   "metadata": {},
   "outputs": [],
   "source": [
    "gdf = gdf[gdf['STROKETYPE'] != 'CLOUD_STROKE']\n",
    "gdf['STROKETYPE'].unique()"
   ]
  },
  {
   "cell_type": "markdown",
   "id": "f0e0077b",
   "metadata": {},
   "source": [
    "Note that now we have a single stroke type wich is `GROUND_STROKE`. How many samples did we loose because of being cloud strikes? We can simply compare the shape from before with the new one. We removed close to 2000 rows that were `CLOUD_STROKE`."
   ]
  },
  {
   "cell_type": "code",
   "execution_count": null,
   "id": "72d5c101",
   "metadata": {},
   "outputs": [],
   "source": [
    "gdf.shape"
   ]
  },
  {
   "cell_type": "markdown",
   "id": "84693c24",
   "metadata": {},
   "source": [
    "## 5. Data Cleaning\n",
    "\n",
    "One thing to always keep in mind is to not trust the data. Based on what you have seen in the readings from this project, our fire season generally spans between April-October as a max. Thus we will clean the data to only include those observations. Let's visualize first from which months we have data for."
   ]
  },
  {
   "cell_type": "code",
   "execution_count": null,
   "id": "0c20af89",
   "metadata": {},
   "outputs": [],
   "source": [
    "gdf.head()"
   ]
  },
  {
   "cell_type": "code",
   "execution_count": null,
   "id": "263e353b",
   "metadata": {},
   "outputs": [],
   "source": [
    "gdf.columns"
   ]
  },
  {
   "cell_type": "markdown",
   "id": "6dac6bf6",
   "metadata": {},
   "source": [
    "Since we only have the specific data of the lightning, we want to add a new column to our dataset with the month. For this we will extract the month from the `LOCALDATET` column, and create a new `MONTH` column."
   ]
  },
  {
   "cell_type": "code",
   "execution_count": null,
   "id": "28b2f615",
   "metadata": {},
   "outputs": [],
   "source": [
    "gdf['MONTH'] = gdf['LOCALDATET'].str[5:7].astype(int)\n",
    "gdf.head()"
   ]
  },
  {
   "cell_type": "markdown",
   "id": "d2b29eb2",
   "metadata": {},
   "source": [
    "Now that we can a new `MONTH` column, let's start visualizing the data. Let's do a line plot of strikes per month."
   ]
  },
  {
   "cell_type": "code",
   "execution_count": null,
   "id": "da1a2faf",
   "metadata": {},
   "outputs": [],
   "source": [
    "gdf.MONTH.value_counts().sort_index().plot(kind='bar')"
   ]
  },
  {
   "cell_type": "markdown",
   "id": "a4028071",
   "metadata": {},
   "source": [
    "What can we say from this plot? What is the x axis? What is the y axis? To understand this we need to label the axis. Thus, let's go ahead and label both x and y axis."
   ]
  },
  {
   "cell_type": "code",
   "execution_count": null,
   "id": "c1ed3b8c",
   "metadata": {},
   "outputs": [],
   "source": [
    "ax = gdf.MONTH.value_counts().sort_index().plot(kind='bar')\n",
    "ax.set_xlabel(\"Month\")\n",
    "ax.set_ylabel(\"Number of strikes\")"
   ]
  },
  {
   "cell_type": "markdown",
   "id": "a1d064e9",
   "metadata": {},
   "source": [
    "Here we can see that the month with the highest number of strikes was June. What is missing in this plot? We are missing a title. Try to add a title to this figure so we can have it ready for our paper. Uncomment the lines from below and Google \"how to add a title to a pandas plot?\". Hint: you will need to add a `title` argument to the plot function. Want to play even further with it, try to add different colors to it."
   ]
  },
  {
   "cell_type": "code",
   "execution_count": null,
   "id": "b3ffa8ec",
   "metadata": {},
   "outputs": [],
   "source": [
    "# ax = gdf.MONTH.value_counts().sort_index().plot(kind='bar')\n",
    "# ax.set_xlabel(\"Month\")\n",
    "# ax.set_ylabel(\"Number of strikes\")"
   ]
  },
  {
   "cell_type": "markdown",
   "id": "eacf0f1b",
   "metadata": {},
   "source": [
    "We want only the months of fire season, so let's clean up the dataset and remove data from January-March."
   ]
  },
  {
   "cell_type": "code",
   "execution_count": null,
   "id": "b21ebd24",
   "metadata": {},
   "outputs": [],
   "source": [
    "gdf = gdf[gdf['MONTH'] >= 4]\n",
    "gdf.MONTH.unique()"
   ]
  },
  {
   "cell_type": "code",
   "execution_count": null,
   "id": "d1ca8f91",
   "metadata": {},
   "outputs": [],
   "source": [
    "ax = gdf.MONTH.value_counts().sort_index().plot(kind='bar')\n",
    "ax.set_xlabel(\"Month\")\n",
    "ax.set_ylabel(\"Number of strikes\")"
   ]
  },
  {
   "cell_type": "markdown",
   "id": "9a56fb50",
   "metadata": {},
   "source": [
    "Let's visualize the individual days of June and see when did we get the highest lightning days. For that we need to add the day column. Uncomment the cell below to add the `DAY` column."
   ]
  },
  {
   "cell_type": "code",
   "execution_count": null,
   "id": "48473b75",
   "metadata": {},
   "outputs": [],
   "source": [
    "gdf['DAY'] = gdf['LOCALDATET'].copy().str[8:10].astype(int)\n",
    "gdf.head()"
   ]
  },
  {
   "cell_type": "code",
   "execution_count": null,
   "id": "83d1555f",
   "metadata": {},
   "outputs": [],
   "source": [
    "ax = gdf[gdf['MONTH'] == 6].DAY.value_counts().sort_index().plot(kind='bar')\n",
    "ax.set_xlabel(\"Day\")\n",
    "ax.set_ylabel(\"Number of strikes\")"
   ]
  },
  {
   "cell_type": "markdown",
   "id": "d0e20d0a",
   "metadata": {},
   "source": [
    "- When did we get the higuest number of strikes in June?\n",
    "- Can you change the X axis values to replace 4,5,6,7 with the actual month names?\n",
    "- Can you plot the data as a line?"
   ]
  },
  {
   "cell_type": "markdown",
   "id": "c9c3ffa6",
   "metadata": {},
   "source": [
    "## 6. Visualize the Data\n",
    "\n",
    "Let's visualize some of the data using its current spatial information. Let's look at 400 random points from June. All of the blue markers from below are lightning strikes seen from the ALDN database."
   ]
  },
  {
   "cell_type": "code",
   "execution_count": null,
   "id": "1d57810a",
   "metadata": {},
   "outputs": [],
   "source": [
    "m = leafmap.Map(center=[20, 0], zoom=1)\n",
    "m.add_gdf(gdf[gdf['MONTH'] == 6].head(400), \"June Lightning\")\n",
    "m"
   ]
  },
  {
   "cell_type": "markdown",
   "id": "ee020302",
   "metadata": {},
   "source": [
    "## 7. Closing Thoughts\n",
    "\n",
    "We opened spatial data, used Python to uncompress it and clean it. We used geopandas and pandas to read the dataframe data and matplotlib to visualize some of the data. We also used leafmap for some interactive mapping.\n",
    "\n",
    "For when we meet next week:\n",
    "- Any ideas on how we can create visualizations to help us understand how good our models are compared to the data you just visualized here?\n",
    "- Any other ideas on how to visualize this data to make it look cool for a wider audience?\n",
    "- Anything interesting you might want to do with this data?"
   ]
  },
  {
   "cell_type": "code",
   "execution_count": null,
   "id": "c9a2f9bf",
   "metadata": {},
   "outputs": [],
   "source": []
  }
 ],
 "metadata": {
  "kernelspec": {
   "display_name": "Python 3 (ipykernel)",
   "language": "python",
   "name": "python3"
  },
  "language_info": {
   "codemirror_mode": {
    "name": "ipython",
    "version": 3
   },
   "file_extension": ".py",
   "mimetype": "text/x-python",
   "name": "python",
   "nbconvert_exporter": "python",
   "pygments_lexer": "ipython3",
   "version": "3.9.16"
  }
 },
 "nbformat": 4,
 "nbformat_minor": 5
}
