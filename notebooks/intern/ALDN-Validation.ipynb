{
 "cells": [
  {
   "cell_type": "markdown",
   "id": "ed96f4bc-65c9-4829-92d6-feda3be34d61",
   "metadata": {},
   "source": [
    "# Validating Alaska Lightning Probability Model\n",
    "\n",
    "In this notebook you will learn:\n",
    "\n",
    "- how to visualize model output data\n",
    "- how to perform quick statistics and exploratory data analysis\n",
    "- how to get model metrics for validation\n",
    "\n",
    "For this part of the work we will be looking at outputs from the trained model on ALDN data. We will look at the model performance under:\n",
    "\n",
    "- general conditions\n",
    "- per biome\n",
    "- per severity day\n",
    "- per temporal window.\n",
    "\n",
    "You will use the base code from the previous notebook to finish the last three plots from this notebook. I have provided examples below on how you can query the data and use it to plot.\n",
    "\n",
    "## 1. Open database to work with\n",
    "\n",
    "We will use a database to validate our model. This database includes observations across all dates, biomes, and temporal windows."
   ]
  },
  {
   "cell_type": "code",
   "execution_count": null,
   "id": "eb8e3536-6bac-4161-84ff-041548783fac",
   "metadata": {},
   "outputs": [],
   "source": [
    "!pip install datasets geopandas"
   ]
  },
  {
   "cell_type": "code",
   "execution_count": 55,
   "id": "b055714d-78e4-41f5-b31b-ac75f2404863",
   "metadata": {},
   "outputs": [],
   "source": [
    "import pandas as pd\n",
    "import geopandas as gpd\n",
    "from huggingface_hub import snapshot_download\n",
    "from sklearn.metrics import accuracy_score, confusion_matrix, \\\n",
    "    classification_report, brier_score_loss, log_loss"
   ]
  },
  {
   "cell_type": "code",
   "execution_count": 56,
   "id": "25dd58b9-7d9f-4150-81e4-0a1e3828800a",
   "metadata": {},
   "outputs": [],
   "source": [
    "DATASET_URL = 'jordancaraballo/alaska-lightning'\n",
    "DATASET_FILENAME = 'validation-alaska.gpkg'"
   ]
  },
  {
   "cell_type": "code",
   "execution_count": 63,
   "id": "0d477982-14e3-4934-a1a3-4e9b4cb26f54",
   "metadata": {},
   "outputs": [
    {
     "data": {
      "application/vnd.jupyter.widget-view+json": {
       "model_id": "2fa48bdab69c49849ecce3329ab9f4a9",
       "version_major": 2,
       "version_minor": 0
      },
      "text/plain": [
       "Fetching 1 files:   0%|          | 0/1 [00:00<?, ?it/s]"
      ]
     },
     "metadata": {},
     "output_type": "display_data"
    },
    {
     "data": {
      "application/vnd.jupyter.widget-view+json": {
       "model_id": "5d31b49b54f449d0937e5b4562a7fad6",
       "version_major": 2,
       "version_minor": 0
      },
      "text/plain": [
       "Downloading validation-alaska.gpkg:   0%|          | 0.00/10.9M [00:00<?, ?B/s]"
      ]
     },
     "metadata": {},
     "output_type": "display_data"
    }
   ],
   "source": [
    "#database_filename = '/explore/nobackup/people/jacaraba/development/wildfire-occurrence/notebooks/validation-alaska.gpkg'\n",
    "alaska_dataset = snapshot_download(repo_id=DATASET_URL, allow_patterns=\"*.gpkg\", repo_type='dataset')"
   ]
  },
  {
   "cell_type": "code",
   "execution_count": 64,
   "id": "e5c73377-3b26-4048-9a33-0a0f316fda87",
   "metadata": {},
   "outputs": [
    {
     "data": {
      "text/plain": [
       "'/home/jacaraba/.cache/huggingface/hub/datasets--jordancaraballo--alaska-lightning/snapshots/4fb86c0555e59021c8fa5130905707039242ecd6/validation-alaska.gpkg'"
      ]
     },
     "execution_count": 64,
     "metadata": {},
     "output_type": "execute_result"
    }
   ],
   "source": [
    "database_filename = os.path.join(alaska_dataset, DATASET_FILENAME)\n",
    "database_filename"
   ]
  },
  {
   "cell_type": "code",
   "execution_count": 65,
   "id": "26db6340-e160-41aa-b94e-3eda42a600dd",
   "metadata": {},
   "outputs": [],
   "source": [
    "validation_database = gpd.read_file(database_filename)"
   ]
  },
  {
   "cell_type": "code",
   "execution_count": 39,
   "id": "01e479f6-49f7-4c23-ab37-4b9110e18047",
   "metadata": {},
   "outputs": [
    {
     "data": {
      "text/html": [
       "<div>\n",
       "<style scoped>\n",
       "    .dataframe tbody tr th:only-of-type {\n",
       "        vertical-align: middle;\n",
       "    }\n",
       "\n",
       "    .dataframe tbody tr th {\n",
       "        vertical-align: top;\n",
       "    }\n",
       "\n",
       "    .dataframe thead th {\n",
       "        text-align: right;\n",
       "    }\n",
       "</style>\n",
       "<table border=\"1\" class=\"dataframe\">\n",
       "  <thead>\n",
       "    <tr style=\"text-align: right;\">\n",
       "      <th></th>\n",
       "      <th>BIOME</th>\n",
       "      <th>CFTotal</th>\n",
       "      <th>CFLow</th>\n",
       "      <th>CFMed</th>\n",
       "      <th>CFHigh</th>\n",
       "      <th>DZ700_850</th>\n",
       "      <th>GPZ500</th>\n",
       "      <th>GPZ700</th>\n",
       "      <th>GPZ750</th>\n",
       "      <th>GPZ850</th>\n",
       "      <th>...</th>\n",
       "      <th>T750</th>\n",
       "      <th>T850</th>\n",
       "      <th>W500</th>\n",
       "      <th>WA500</th>\n",
       "      <th>WRFDATE_STR</th>\n",
       "      <th>Severity2</th>\n",
       "      <th>predictions</th>\n",
       "      <th>predictions_proba</th>\n",
       "      <th>Label</th>\n",
       "      <th>geometry</th>\n",
       "    </tr>\n",
       "  </thead>\n",
       "  <tbody>\n",
       "    <tr>\n",
       "      <th>0</th>\n",
       "      <td>BOREAL</td>\n",
       "      <td>0.235118</td>\n",
       "      <td>0.000000</td>\n",
       "      <td>0.555937</td>\n",
       "      <td>0.149419</td>\n",
       "      <td>1587.271973</td>\n",
       "      <td>5683.688477</td>\n",
       "      <td>3076.060059</td>\n",
       "      <td>2522.620117</td>\n",
       "      <td>1488.788086</td>\n",
       "      <td>...</td>\n",
       "      <td>-0.241375</td>\n",
       "      <td>-0.647393</td>\n",
       "      <td>-0.010574</td>\n",
       "      <td>-0.009586</td>\n",
       "      <td>2015-06-21</td>\n",
       "      <td>Severe</td>\n",
       "      <td>1</td>\n",
       "      <td>0.952536</td>\n",
       "      <td>1</td>\n",
       "      <td>POINT (519194.241 1898993.900)</td>\n",
       "    </tr>\n",
       "    <tr>\n",
       "      <th>1</th>\n",
       "      <td>TUNDRA</td>\n",
       "      <td>0.367650</td>\n",
       "      <td>0.536280</td>\n",
       "      <td>0.373804</td>\n",
       "      <td>0.192867</td>\n",
       "      <td>1565.920166</td>\n",
       "      <td>5591.059570</td>\n",
       "      <td>3004.359131</td>\n",
       "      <td>2454.425293</td>\n",
       "      <td>1438.438965</td>\n",
       "      <td>...</td>\n",
       "      <td>-3.937138</td>\n",
       "      <td>-7.394337</td>\n",
       "      <td>-0.032130</td>\n",
       "      <td>-0.014873</td>\n",
       "      <td>2022-07-03</td>\n",
       "      <td>Severe</td>\n",
       "      <td>0</td>\n",
       "      <td>0.025289</td>\n",
       "      <td>0</td>\n",
       "      <td>POINT (-192638.360 1034422.002)</td>\n",
       "    </tr>\n",
       "    <tr>\n",
       "      <th>2</th>\n",
       "      <td>TUNDRA</td>\n",
       "      <td>0.000000</td>\n",
       "      <td>0.000000</td>\n",
       "      <td>0.000000</td>\n",
       "      <td>0.000000</td>\n",
       "      <td>1582.987427</td>\n",
       "      <td>5700.426270</td>\n",
       "      <td>3100.707520</td>\n",
       "      <td>2546.743408</td>\n",
       "      <td>1517.720093</td>\n",
       "      <td>...</td>\n",
       "      <td>-0.869709</td>\n",
       "      <td>-3.584895</td>\n",
       "      <td>-0.068340</td>\n",
       "      <td>-0.077150</td>\n",
       "      <td>2015-06-21</td>\n",
       "      <td>Severe</td>\n",
       "      <td>0</td>\n",
       "      <td>0.023028</td>\n",
       "      <td>0</td>\n",
       "      <td>POINT (-602795.019 1377084.527)</td>\n",
       "    </tr>\n",
       "    <tr>\n",
       "      <th>3</th>\n",
       "      <td>BOREAL</td>\n",
       "      <td>0.638786</td>\n",
       "      <td>0.667094</td>\n",
       "      <td>1.000000</td>\n",
       "      <td>0.249264</td>\n",
       "      <td>1590.126587</td>\n",
       "      <td>5690.891113</td>\n",
       "      <td>3077.050781</td>\n",
       "      <td>2518.399414</td>\n",
       "      <td>1486.924194</td>\n",
       "      <td>...</td>\n",
       "      <td>0.635090</td>\n",
       "      <td>-3.608742</td>\n",
       "      <td>0.100535</td>\n",
       "      <td>0.041435</td>\n",
       "      <td>2022-07-03</td>\n",
       "      <td>Severe</td>\n",
       "      <td>1</td>\n",
       "      <td>0.502581</td>\n",
       "      <td>0</td>\n",
       "      <td>POINT (243477.581 1377084.527)</td>\n",
       "    </tr>\n",
       "    <tr>\n",
       "      <th>4</th>\n",
       "      <td>TUNDRA</td>\n",
       "      <td>0.398346</td>\n",
       "      <td>0.609287</td>\n",
       "      <td>0.541084</td>\n",
       "      <td>0.044667</td>\n",
       "      <td>1557.165405</td>\n",
       "      <td>5551.070312</td>\n",
       "      <td>2978.733887</td>\n",
       "      <td>2431.038086</td>\n",
       "      <td>1421.568481</td>\n",
       "      <td>...</td>\n",
       "      <td>-5.159317</td>\n",
       "      <td>-10.262680</td>\n",
       "      <td>-0.007419</td>\n",
       "      <td>-0.006713</td>\n",
       "      <td>2013-06-20</td>\n",
       "      <td>Severe</td>\n",
       "      <td>0</td>\n",
       "      <td>0.013615</td>\n",
       "      <td>0</td>\n",
       "      <td>POINT (-109568.657 868282.596)</td>\n",
       "    </tr>\n",
       "  </tbody>\n",
       "</table>\n",
       "<p>5 rows × 37 columns</p>\n",
       "</div>"
      ],
      "text/plain": [
       "    BIOME   CFTotal     CFLow     CFMed    CFHigh    DZ700_850       GPZ500  \\\n",
       "0  BOREAL  0.235118  0.000000  0.555937  0.149419  1587.271973  5683.688477   \n",
       "1  TUNDRA  0.367650  0.536280  0.373804  0.192867  1565.920166  5591.059570   \n",
       "2  TUNDRA  0.000000  0.000000  0.000000  0.000000  1582.987427  5700.426270   \n",
       "3  BOREAL  0.638786  0.667094  1.000000  0.249264  1590.126587  5690.891113   \n",
       "4  TUNDRA  0.398346  0.609287  0.541084  0.044667  1557.165405  5551.070312   \n",
       "\n",
       "        GPZ700       GPZ750       GPZ850  ...      T750       T850      W500  \\\n",
       "0  3076.060059  2522.620117  1488.788086  ... -0.241375  -0.647393 -0.010574   \n",
       "1  3004.359131  2454.425293  1438.438965  ... -3.937138  -7.394337 -0.032130   \n",
       "2  3100.707520  2546.743408  1517.720093  ... -0.869709  -3.584895 -0.068340   \n",
       "3  3077.050781  2518.399414  1486.924194  ...  0.635090  -3.608742  0.100535   \n",
       "4  2978.733887  2431.038086  1421.568481  ... -5.159317 -10.262680 -0.007419   \n",
       "\n",
       "      WA500  WRFDATE_STR  Severity2  predictions  predictions_proba  Label  \\\n",
       "0 -0.009586   2015-06-21     Severe            1           0.952536      1   \n",
       "1 -0.014873   2022-07-03     Severe            0           0.025289      0   \n",
       "2 -0.077150   2015-06-21     Severe            0           0.023028      0   \n",
       "3  0.041435   2022-07-03     Severe            1           0.502581      0   \n",
       "4 -0.006713   2013-06-20     Severe            0           0.013615      0   \n",
       "\n",
       "                          geometry  \n",
       "0   POINT (519194.241 1898993.900)  \n",
       "1  POINT (-192638.360 1034422.002)  \n",
       "2  POINT (-602795.019 1377084.527)  \n",
       "3   POINT (243477.581 1377084.527)  \n",
       "4   POINT (-109568.657 868282.596)  \n",
       "\n",
       "[5 rows x 37 columns]"
      ]
     },
     "execution_count": 39,
     "metadata": {},
     "output_type": "execute_result"
    }
   ],
   "source": [
    "validation_database.head()"
   ]
  },
  {
   "cell_type": "markdown",
   "id": "e7cc1c27-2caa-4b90-83d9-adec66d2ed24",
   "metadata": {},
   "source": [
    "## 2. Basic Accuracy Metrics - Biome"
   ]
  },
  {
   "cell_type": "code",
   "execution_count": 40,
   "id": "ec204672-1b09-4f9c-8fc0-f2b5999079d3",
   "metadata": {},
   "outputs": [],
   "source": [
    "def print_accuracy(df):\n",
    "    conf_matrix = confusion_matrix(df['Label'], df['predictions'])\n",
    "    a = conf_matrix[0][0]\n",
    "    b = conf_matrix[0][1]\n",
    "    c = conf_matrix[1][0]\n",
    "    d = conf_matrix[1][1]\n",
    "\n",
    "    print(\"Accuracy: \", accuracy_score(df['Label'], df['predictions']))\n",
    "    print(\"POD:      \", a / (a+c))\n",
    "    print(\"CSI:      \", a / (a+b+c))\n",
    "    print(\"FAR:      \", b / (a+c))\n",
    "    print(\"F:        \", b / (b+d))\n",
    "    print(\"Brier:    \", brier_score_loss(df['Label'], df['predictions_proba']))\n",
    "    print(\"Log Loss: \", log_loss(df['Label'], df['predictions_proba']))\n",
    "    return"
   ]
  },
  {
   "cell_type": "code",
   "execution_count": 41,
   "id": "9492c182-db3d-4492-bbff-8d12c1163509",
   "metadata": {},
   "outputs": [
    {
     "name": "stdout",
     "output_type": "stream",
     "text": [
      "Accuracy:  0.8701488182083454\n",
      "POD:       0.8993288590604027\n",
      "CSI:       0.766066500197135\n",
      "FAR:       0.17395664583815476\n",
      "F:         0.156022971009479\n",
      "Brier:     0.0937261217448091\n",
      "Log Loss:  0.3061215240577065\n"
     ]
    }
   ],
   "source": [
    "# Overall Accuracy, Alaska\n",
    "print_accuracy(validation_database)"
   ]
  },
  {
   "cell_type": "code",
   "execution_count": 42,
   "id": "328c75e6-d9b5-4533-b23b-41a624760fc8",
   "metadata": {},
   "outputs": [
    {
     "name": "stdout",
     "output_type": "stream",
     "text": [
      "Accuracy:  0.9013016555036016\n",
      "POD:       0.9352299159062444\n",
      "CSI:       0.8700066577896138\n",
      "FAR:       0.07496868849525855\n",
      "F:         0.18029259896729777\n",
      "Brier:     0.07140649806817509\n",
      "Log Loss:  0.23639188980476725\n"
     ]
    }
   ],
   "source": [
    "# Overall Accuracy, Tundra\n",
    "tundra = validation_database[validation_database['BIOME'] == 'TUNDRA']\n",
    "print_accuracy(tundra)"
   ]
  },
  {
   "cell_type": "code",
   "execution_count": 43,
   "id": "33521010-140a-48e6-ba0b-c226dc6e43fa",
   "metadata": {},
   "outputs": [
    {
     "name": "stdout",
     "output_type": "stream",
     "text": [
      "Accuracy:  0.8491005996002665\n",
      "POD:       0.8475700779565434\n",
      "CSI:       0.6527848748083802\n",
      "FAR:       0.2983911096367557\n",
      "F:         0.15012934991237586\n",
      "Brier:     0.10864986889151163\n",
      "Log Loss:  0.35152271423266934\n"
     ]
    }
   ],
   "source": [
    "# Overall Accuracy, Boreal\n",
    "boreal = validation_database[validation_database['BIOME'] == 'BOREAL']\n",
    "print_accuracy(boreal)"
   ]
  },
  {
   "cell_type": "markdown",
   "id": "946e906f-8b71-41b6-91a4-bcd6d0e208c4",
   "metadata": {},
   "source": [
    "## 3. Basic Accuracy Metrics - Severity"
   ]
  },
  {
   "cell_type": "code",
   "execution_count": 44,
   "id": "118b0bcc-e40f-4827-81db-cf34783fdfe9",
   "metadata": {},
   "outputs": [
    {
     "name": "stdout",
     "output_type": "stream",
     "text": [
      "Accuracy:  0.8680068567866605\n",
      "POD:       0.8967855349070819\n",
      "CSI:       0.7597333522445217\n",
      "FAR:       0.18039511133433786\n",
      "F:         0.15704707768546858\n",
      "Brier:     0.09542416002537023\n",
      "Log Loss:  0.31109003815600383\n"
     ]
    }
   ],
   "source": [
    "# Overall Accuracy, Severe\n",
    "severe = validation_database[validation_database['Severity2'] == 'Severe']\n",
    "print_accuracy(severe)"
   ]
  },
  {
   "cell_type": "code",
   "execution_count": 45,
   "id": "4553d006-2541-4eb4-a39b-004aed223b4f",
   "metadata": {},
   "outputs": [
    {
     "name": "stdout",
     "output_type": "stream",
     "text": [
      "Accuracy:  0.8816176470588235\n",
      "POD:       0.9068047337278107\n",
      "CSI:       0.7919896640826873\n",
      "FAR:       0.14497041420118342\n",
      "F:         0.14327485380116958\n",
      "Brier:     0.08114471707250948\n",
      "Log Loss:  0.26681248977472327\n"
     ]
    }
   ],
   "source": [
    "# Overall Accuracy, Moderate\n",
    "moderate = validation_database[validation_database['Severity2'] == 'Moderate']\n",
    "print_accuracy(moderate)"
   ]
  },
  {
   "cell_type": "code",
   "execution_count": 46,
   "id": "19afd24b-6b23-46aa-8d61-a4fa80ebf16f",
   "metadata": {},
   "outputs": [
    {
     "name": "stdout",
     "output_type": "stream",
     "text": [
      "Accuracy:  0.9716494845360825\n",
      "POD:       0.9736070381231672\n",
      "CSI:       0.967930029154519\n",
      "FAR:       0.005865102639296188\n",
      "F:         0.0425531914893617\n",
      "Brier:     0.02549278094296501\n",
      "Log Loss:  0.11521551052615858\n"
     ]
    }
   ],
   "source": [
    "# Overall Accuracy, Low\n",
    "low = validation_database[validation_database['Severity2'] == 'Low']\n",
    "print_accuracy(low)"
   ]
  },
  {
   "cell_type": "markdown",
   "id": "ab9f2304-bbf0-4cda-8420-edd8ce71f486",
   "metadata": {},
   "source": [
    "## Example plot - which dates are we performing the worst?"
   ]
  },
  {
   "cell_type": "code",
   "execution_count": 53,
   "id": "f62dc58c-d9ab-4b6a-8d40-f27cf08b9f3a",
   "metadata": {},
   "outputs": [
    {
     "data": {
      "text/plain": [
       "Text(0, 0.5, 'Date')"
      ]
     },
     "execution_count": 53,
     "metadata": {},
     "output_type": "execute_result"
    },
    {
     "data": {
      "image/png": "[encoded data removed]",
      "text/plain": [
       "<Figure size 640x480 with 1 Axes>"
      ]
     },
     "metadata": {},
     "output_type": "display_data"
    }
   ],
   "source": [
    "failed_points = validation_database[validation_database['Label'] != validation_database['predictions']]\n",
    "ax = failed_points.WRFDATE_STR.value_counts().sort_index().plot(\n",
    "    kind='barh', title='Least Accurate Days for Model Performance')\n",
    "ax.set_xlabel(\"Count of Failed Classification Points\")\n",
    "ax.set_ylabel(\"Date\")"
   ]
  },
  {
   "cell_type": "markdown",
   "id": "d3e96ef8-826f-49b1-9735-0cb7ba86921d",
   "metadata": {},
   "source": [
    "## Example plot - which dates are we performing the best?"
   ]
  },
  {
   "cell_type": "code",
   "execution_count": 54,
   "id": "c9af868a-aa09-47ce-b9e0-6d57fdab1dcd",
   "metadata": {},
   "outputs": [
    {
     "data": {
      "text/plain": [
       "Text(0, 0.5, 'Date')"
      ]
     },
     "execution_count": 54,
     "metadata": {},
     "output_type": "execute_result"
    },
    {
     "data": {
      "image/png": "[encoded data removed]",
      "text/plain": [
       "<Figure size 640x480 with 1 Axes>"
      ]
     },
     "metadata": {},
     "output_type": "display_data"
    }
   ],
   "source": [
    "accurate_points = validation_database[validation_database['Label'] == validation_database['predictions']]\n",
    "ax = accurate_points.WRFDATE_STR.value_counts().sort_index().plot(\n",
    "    kind='barh', title='Most Accurate Days for Model Performance')\n",
    "ax.set_xlabel(\"Count of True Classification Points\")\n",
    "ax.set_ylabel(\"Date\")"
   ]
  },
  {
   "cell_type": "markdown",
   "id": "2958978f-4f41-4dbd-862a-c5744f417c3e",
   "metadata": {},
   "source": [
    "The pattern between these two seems to be related to the number of points available. It would be interesting to understand if there are any climate variables driving this difference."
   ]
  },
  {
   "cell_type": "markdown",
   "id": "0eea7b0c-91b6-4610-a234-e92b25b9177a",
   "metadata": {},
   "source": [
    "## 4. Task #1: Generate Bar Plot with Accuracy per Location (Boreal vs Tundra)"
   ]
  },
  {
   "cell_type": "code",
   "execution_count": 47,
   "id": "1835460d-7149-430b-876c-aa2be5ab66d0",
   "metadata": {},
   "outputs": [],
   "source": [
    "### Insert your code Here ###"
   ]
  },
  {
   "cell_type": "markdown",
   "id": "0ada1e57-e506-4fac-aeef-4f5ad48e1c72",
   "metadata": {},
   "source": [
    "## 5. Task #2: Generate Bar Plot with Accuracy per Severity Level (Severe, Moderate, Low)"
   ]
  },
  {
   "cell_type": "code",
   "execution_count": 48,
   "id": "3ecfa154-cc4d-4d36-88ca-2d0ca0d9320c",
   "metadata": {},
   "outputs": [],
   "source": [
    "### Insert your code Here ###"
   ]
  },
  {
   "cell_type": "markdown",
   "id": "f8aaf36a-da87-4770-ac20-253915497f0b",
   "metadata": {},
   "source": [
    "## 6. Task #3: Generate Map to Illustrate where our model fails the most"
   ]
  },
  {
   "cell_type": "code",
   "execution_count": 49,
   "id": "c546a83b-6be1-4cda-ba9c-33a8d0a9b794",
   "metadata": {},
   "outputs": [],
   "source": [
    "### Insert your code Here ###"
   ]
  },
  {
   "cell_type": "markdown",
   "id": "303f63b7-c52c-4882-a9ff-05322424a8f4",
   "metadata": {},
   "source": [
    "## 7. Task #4: Write three conclusions from the results listed above"
   ]
  },
  {
   "cell_type": "code",
   "execution_count": 50,
   "id": "9ac929b0-45c7-4e36-9e2e-718f1ba7752c",
   "metadata": {},
   "outputs": [],
   "source": [
    "### Insert your text Here ###"
   ]
  },
  {
   "cell_type": "code",
   "execution_count": null,
   "id": "36dcff74-83a2-4d7b-981e-b2aaf5753474",
   "metadata": {},
   "outputs": [],
   "source": []
  }
 ],
 "metadata": {
  "kernelspec": {
   "display_name": "ILAB Kernel (Pytorch)",
   "language": "python",
   "name": "pytorch-kernel"
  },
  "language_info": {
   "codemirror_mode": {
    "name": "ipython",
    "version": 3
   },
   "file_extension": ".py",
   "mimetype": "text/x-python",
   "name": "python",
   "nbconvert_exporter": "python",
   "pygments_lexer": "ipython3",
   "version": "3.9.15"
  }
 },
 "nbformat": 4,
 "nbformat_minor": 5
}
